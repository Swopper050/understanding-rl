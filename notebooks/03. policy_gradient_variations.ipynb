{
 "cells": [
  {
   "cell_type": "markdown",
   "id": "57847ba7-606b-4579-a802-a2574a1f3267",
   "metadata": {},
   "source": [
    "# Policy gradient variations\n",
    "\n",
    "In the previous notebook we ended with the following equation for estimating the gradient of the expected return for a certain policy $\\pi_\\theta$:\n",
    "\n",
    "\\begin{equation*}\n",
    "\\tag{1}\n",
    "\\nabla_\\theta J(\\pi_\\theta) = \\underset{\\tau \\sim \\pi_\\theta}{\\mathbb{E}}[\\sum_{t=0}^T \\nabla_\\theta \\log \\pi_\\theta(a_t | s_t) R(\\tau)]\n",
    "\\end{equation*}\n",
    "\n",
    "where $R(\\tau)$, the return of an episode, is defined is:\n",
    "\n",
    "$$\n",
    "R(\\tau) = \\sum_{t=0}^T r_t\n",
    "$$\n",
    "\n",
    "When thinking about this equation intuitively, it basically *scales* the probability of an action $a_t$ given a certain state $s_t$ with the return of the episode they belong to. If that episode was a 'good' one, i.e. a high return, the term will increase, further 'reinforcing' that action. If the return is bad, it will not be reinforced as much. Over time, this will make actions that lead to a high return more likely than actions that lead to a lower return. \n"
   ]
  },
  {
   "cell_type": "markdown",
   "id": "b8b75ba9-dda1-4cc6-972c-5f65620c5c6c",
   "metadata": {},
   "source": [
    "However, this means that an action that occurred halfway through an episode, also incorporates rewards from timesteps that happened *before* that action. But how can an action be responsible for something that happened before that action was taken?\n",
    "\n",
    "Instead, we want actions to be reinforced based on rewards that happened *after* that action."
   ]
  },
  {
   "cell_type": "markdown",
   "id": "80abd1ee-4714-4cc7-9bfa-5ec0d83e673a",
   "metadata": {},
   "source": [
    "### Reward-to-go\n",
    "\n",
    "So, instead of using $R(\\tau)$, we can come up with one simple alternative: using all rewards that happend *after* taking a certain action:\n",
    "$$\n",
    "\\hat{R}(\\tau, t) = \\sum_{t'=t}^T r_{t'}\n",
    "$$\n",
    "\n",
    "This is often referred to as the *reward-to-go*. Now we can update equation $(1)$ as follows:\n",
    "\n",
    "\\begin{equation*}\n",
    "\\tag{2}\n",
    "\\nabla_\\theta J(\\pi_\\theta) = \\underset{\\tau \\sim \\pi_\\theta}{\\mathbb{E}}[\\sum_{t=0}^T \\nabla_\\theta \\log \\pi_\\theta(a_t | s_t) \\hat{R}(\\tau, t)\n",
    "\\end{equation*}\n",
    "\n",
    "The derivation for this is based on a proof that shows that the *expected gradient* for this term, for all timesteps prior to the current timestep, are 0, hence making it possible to emit them. The proof is in my opinion best explained [here](https://spinningup.openai.com/en/latest/spinningup/extra_pg_proof1.html).\n",
    "\n",
    "Let's see how to implement this."
   ]
  },
  {
   "cell_type": "markdown",
   "id": "923ac218-565d-4887-9416-2efe741bb290",
   "metadata": {
    "jp-MarkdownHeadingCollapsed": true
   },
   "source": [
    "### Reused code\n",
    "First, let's reuse most of the code for working with agents and environments. This is hidden because it is the same as the previous notebook."
   ]
  },
  {
   "cell_type": "code",
   "execution_count": 11,
   "id": "b34644a5-4185-47c1-a746-dc609def5fcd",
   "metadata": {},
   "outputs": [],
   "source": [
    "import gymnasium as gym\n",
    "from gymnasium.wrappers import TimeLimit\n",
    "import numpy as np\n",
    "from typing import Literal\n",
    "\n",
    "import matplotlib.pyplot as plt\n",
    "import seaborn as sns\n",
    "sns.set_theme(style=\"darkgrid\")\n",
    "\n",
    "import torch\n",
    "import torch.nn as nn\n",
    "from torch.distributions.categorical import Categorical\n",
    "torch.manual_seed(13)\n",
    "\n",
    "from IPython import display"
   ]
  },
  {
   "cell_type": "code",
   "execution_count": 2,
   "id": "860b2166-77a8-4160-968a-e7180d040813",
   "metadata": {},
   "outputs": [],
   "source": [
    "env = TimeLimit(gym.make('CartPole-v1', render_mode=\"rgb_array\"), max_episode_steps=300)"
   ]
  },
  {
   "cell_type": "code",
   "execution_count": 3,
   "id": "1810bc08-7c2f-4c64-af75-e9235b53e580",
   "metadata": {},
   "outputs": [],
   "source": [
    "class DiscretePolicy(nn.Module):\n",
    "    def __init__(self, observation_size, actions_size, layer_sizes=[32]):\n",
    "        super().__init__()\n",
    "\n",
    "        layer_sizes = [observation_size] + layer_sizes\n",
    "\n",
    "        layers = []\n",
    "        for layer_in, layer_out in zip(layer_sizes[:-1], layer_sizes[1:]):\n",
    "            layers.append(nn.Linear(layer_in, layer_out))\n",
    "            layers.append(nn.ReLU())\n",
    "\n",
    "        self.net = nn.Sequential(*layers)\n",
    "        self.output = nn.Linear(layer_sizes[-1], actions_size)\n",
    "\n",
    "    def forward(self, x):\n",
    "        logits = self.output(self.net(x))\n",
    "        return logits\n",
    "\n",
    "    def get_action_distribution(self, observations):\n",
    "        return Categorical(logits=self(torch.as_tensor(observations, dtype=torch.float32)))"
   ]
  },
  {
   "cell_type": "code",
   "execution_count": 39,
   "id": "48f24fe6-9655-45e0-80c9-32361488d665",
   "metadata": {},
   "outputs": [],
   "source": [
    "def run_episode(env, policy, seed=None):\n",
    "    \"\"\" Gathers experience for one episode and stores it in the buffer. \"\"\"\n",
    "    observations = []\n",
    "    actions = []\n",
    "    rewards = []\n",
    "    episode_return = 0\n",
    "\n",
    "    observation, _ = env.reset(seed=seed)\n",
    "\n",
    "    done = False\n",
    "    while not done:\n",
    "        # During the collection of an episode, we do not need to store gradients.\n",
    "        with torch.no_grad():\n",
    "            action_distribution = policy.get_action_distribution(observation)\n",
    "\n",
    "        action = action_distribution.sample().item()\n",
    "        new_observation, reward, terminated, truncated, info = env.step(action)\n",
    "        episode_return += reward\n",
    "\n",
    "        # Store information about timestep t.\n",
    "        observations.append(observation)\n",
    "        actions.append(action)\n",
    "        rewards.append(reward)\n",
    "\n",
    "        if terminated or truncated:\n",
    "            done = True\n",
    "\n",
    "        observation = new_observation\n",
    "\n",
    "    return observations, actions, rewards"
   ]
  },
  {
   "cell_type": "markdown",
   "id": "eddcd3ac-d995-4d76-83d5-67c77a9dc5de",
   "metadata": {},
   "source": [
    "### Implementing reward to go\n",
    "Now, let's implement the 'memory' of the agent, i.e. the experience buffer. In the previous notebook we stored the 'returns' of the full episode, which is the same as for every timestep in the episode the sum of all the rewards in the episode.\n",
    "\n",
    "In this implementation we will not calculate the 'returns', but we will calculate the 'reward-to-go' for every timestep in the episode. Remember that the equation for this is:\n",
    "$$\n",
    "\\hat{R}(\\tau, t) = \\sum_{t'=t}^T r_{t'}\n",
    "$$\n",
    "\n",
    "And a simple way to implement this is to reverse the list of rewards, take the cumulative sum that list, and reverse it back.\n",
    "\n",
    "Below we will implement an experience buffer that supports different types of 'weight calculations', where the weights do *not* refer to the weights of the policy neural network, but it refers to the factor with which the policy gradients are scaled (right now we have the options $R(\\tau)$ and $\\hat{R}(\\tau, t)$)."
   ]
  },
  {
   "cell_type": "code",
   "execution_count": 38,
   "id": "1587e78b-e5db-4f96-b540-6d7b26222e1e",
   "metadata": {},
   "outputs": [],
   "source": [
    "class ExperienceBuffer:\n",
    "    \"\"\" A class that stores experience. Can be used by storing episodes of data gathered by a specific policy\n",
    "    and provides helper functions for working with this experience during training. \"\"\"\n",
    "\n",
    "    def __init__(self, weight_method: Literal[\"returns\", \"reward_to_go\"] = \"reward_to_go\"):\n",
    "        \"\"\"\n",
    "        :param weight_method: specifies the way for calculating the weights by which the gradients\n",
    "                              need to be multiplied.\n",
    "        \"\"\"\n",
    "        self.observations = []\n",
    "        self.actions = []\n",
    "        self.rewards = []\n",
    "        self.weights = []\n",
    "\n",
    "        self.weight_method = weight_method\n",
    "\n",
    "    def store_episode(self, observations, actions, rewards):\n",
    "        \"\"\" Stores all observations, actions and rewards for one episode. It also calculates the 'return' for this episode\n",
    "        and adds it as a list for all timesteps in the episode. \"\"\"\n",
    "\n",
    "        assert len(observations) == len(actions) == len(rewards), \"There should be an equal amount of observations, actions and rewards.\"\n",
    "\n",
    "        self.observations.extend(observations)\n",
    "        self.actions.extend(actions)\n",
    "        self.rewards.extend(rewards)\n",
    "\n",
    "        match self.weight_method:\n",
    "            case \"returns\":\n",
    "                episode_return = sum(rewards)\n",
    "                self.weights += [episode_return] * len(observations)\n",
    "            case \"reward_to_go\":\n",
    "                self.weights += np.cumsum(rewards[::-1])[::-1].tolist()\n",
    "\n",
    "    def get_as_tensors(self):\n",
    "        \"\"\" Returns all experience so far as tensors. \"\"\"\n",
    "        return (\n",
    "            torch.as_tensor(np.array(self.observations), dtype=torch.float32),\n",
    "            torch.as_tensor(np.array(self.actions), dtype=torch.float32),\n",
    "            torch.as_tensor(np.array(self.rewards), dtype=torch.float32),\n",
    "            torch.as_tensor(np.array(self.weights), dtype=torch.float32),\n",
    "        )\n",
    "\n",
    "    def size(self):\n",
    "        return len(self.observations)\n",
    "\n",
    "    def clear(self):\n",
    "        \"\"\" Clears the buffer, making it ready for a new episode. \"\"\"\n",
    "\n",
    "        self.observations = []\n",
    "        self.actions = []\n",
    "        self.rewards = []\n",
    "        self.weights = []"
   ]
  },
  {
   "cell_type": "markdown",
   "id": "4c8ba76b-f64b-49a7-8192-77e5f389c05b",
   "metadata": {},
   "source": [
    "The piece of code below is extremely similar to the training code in the previous notebook, with the following distinction: we can now have different types of scaling the gradient of the policy. Therefore this line:\n",
    "\n",
    "```loss = -1 * (policy.get_action_distribution(observations).log_prob(actions) * returns).mean()```\n",
    "\n",
    "Is changed in the following:\n",
    "\n",
    "```loss = -1 * (policy.get_action_distribution(observations).log_prob(actions) * weights).mean()```\n",
    "\n",
    "Where weights can be either the full return of the episode or the reward-to-go.\n"
   ]
  },
  {
   "cell_type": "code",
   "execution_count": 40,
   "id": "64854b97-cfb1-4aa7-b940-ab9dbc5ad913",
   "metadata": {},
   "outputs": [],
   "source": [
    "def train_policy(\n",
    "    env,\n",
    "    weight_method: Literal[\"returns\", \"reward_to_go\"] = \"returns\",\n",
    "    n_epochs=100,\n",
    "    n_episodes_per_epoch=100,\n",
    "    learning_rate=1e-2,\n",
    "    verbose=False,\n",
    "):\n",
    "    \"\"\"\n",
    "    This function trains a policy for a given number of epochs, gathering a specified number of episodes\n",
    "    every epoch in order to estimate the expected return for the policy.\n",
    "\n",
    "    It returns a trained policy and the average return of all episodes for that epoch.\n",
    "    \"\"\"\n",
    "\n",
    "    buffer = ExperienceBuffer(weight_method=weight_method)\n",
    "    policy = DiscretePolicy(\n",
    "        observation_size=env.observation_space.shape[0],\n",
    "        actions_size=env.action_space.n,\n",
    "        layer_sizes=[32],\n",
    "    )\n",
    "    optimizer = torch.optim.Adam(policy.parameters(), lr=learning_rate)\n",
    "\n",
    "    returns_per_epoch = []\n",
    "    \n",
    "    for epoch in range(n_epochs):\n",
    "        buffer.clear()\n",
    "        returns = []\n",
    "        for _ in range(n_episodes_per_epoch):\n",
    "            observations, actions, rewards = run_episode(env, policy)\n",
    "            buffer.store_episode(observations, actions, rewards)\n",
    "            returns.append(sum(rewards))\n",
    "\n",
    "        observations, actions, rewards, weights = buffer.get_as_tensors()\n",
    "        loss = -1 * (policy.get_action_distribution(observations).log_prob(actions) * weights).mean()\n",
    "    \n",
    "        optimizer.zero_grad()\n",
    "        loss.backward()\n",
    "        optimizer.step()\n",
    "\n",
    "        average_return = np.mean(returns)\n",
    "        returns_per_epoch.append(average_return)\n",
    "\n",
    "        if verbose:\n",
    "            print(f\"Finished epoch {epoch}. Average return over 100 episodes: {average_return}\")\n",
    "\n",
    "    return (\n",
    "        policy,\n",
    "        {\n",
    "            \"returns\": returns_per_epoch,\n",
    "        },\n",
    "    )"
   ]
  },
  {
   "cell_type": "markdown",
   "id": "03281142-e2b8-4fc7-bf12-1435cfee0938",
   "metadata": {},
   "source": [
    "Now let's train a policy using 'returns' as weights and one using 'reward-to-go' as weights and compare the results."
   ]
  },
  {
   "cell_type": "code",
   "execution_count": 52,
   "id": "5526ba96-6caa-44c9-abc4-832d0bcab9d7",
   "metadata": {},
   "outputs": [
    {
     "name": "stdout",
     "output_type": "stream",
     "text": [
      "Running trial 0\n",
      "Running trial 1\n",
      "Running trial 2\n",
      "Running trial 3\n",
      "Running trial 4\n",
      "Running trial 5\n",
      "Running trial 6\n",
      "Running trial 7\n",
      "Running trial 8\n",
      "Running trial 9\n"
     ]
    }
   ],
   "source": [
    "results_returns = []\n",
    "results_reward_to_go = []\n",
    "\n",
    "for i in range(10):\n",
    "    print(f\"Running trial {i}\")\n",
    "    _, train_info_returns = train_policy(env, weight_method=\"returns\", n_epochs=100, n_episodes_per_epoch=50, learning_rate=1e-2)\n",
    "    results_returns.append(train_info_returns[\"returns\"])\n",
    "\n",
    "    _, train_info_rtg = train_policy(env, weight_method=\"reward_to_go\", n_epochs=100, n_episodes_per_epoch=50, learning_rate=1e-2)\n",
    "    results_reward_to_go.append(train_info_rtg[\"returns\"])"
   ]
  },
  {
   "cell_type": "code",
   "execution_count": 53,
   "id": "2a5c02b9-9287-4a97-946e-2719b2298dbf",
   "metadata": {},
   "outputs": [],
   "source": [
    "def plot_line_collection(results: list[list[float]], ax=None, label=\"\"):\n",
    "    \"\"\" Plots a list of experiment results. \"\"\"\n",
    "\n",
    "    data = np.array(results)\n",
    "    average_line = data.mean(axis=0)\n",
    "    standard_deviations = data.std(axis=0)\n",
    "\n",
    "    upper_bound = average_line + standard_deviations\n",
    "    lower_bound = average_line - standard_deviations\n",
    "\n",
    "    ax = sns.lineplot(average_line, ax=ax, label=label)\n",
    "    ax.fill_between(np.arange(len(average_line)), lower_bound, upper_bound, alpha=.3)\n",
    "    return ax"
   ]
  },
  {
   "cell_type": "code",
   "execution_count": 54,
   "id": "4f3f4d12-e56e-4dac-8360-1e112deed093",
   "metadata": {},
   "outputs": [
    {
     "data": {
      "image/png": "[encoded data removed]",
      "text/plain": [
       "<Figure size 640x480 with 1 Axes>"
      ]
     },
     "metadata": {},
     "output_type": "display_data"
    }
   ],
   "source": [
    "ax = plot_line_collection(results_returns, label=\"returns\")\n",
    "plot_line_collection(results_reward_to_go, ax=ax, label=\"reward to go\")\n",
    "ax.legend()\n",
    "plt.show()"
   ]
  },
  {
   "cell_type": "code",
   "execution_count": null,
   "id": "8fe4a1ad-f227-4037-a34d-86cf031dd8da",
   "metadata": {},
   "outputs": [],
   "source": []
  }
 ],
 "metadata": {
  "kernelspec": {
   "display_name": "Python 3 (ipykernel)",
   "language": "python",
   "name": "python3"
  },
  "language_info": {
   "codemirror_mode": {
    "name": "ipython",
    "version": 3
   },
   "file_extension": ".py",
   "mimetype": "text/x-python",
   "name": "python",
   "nbconvert_exporter": "python",
   "pygments_lexer": "ipython3",
   "version": "3.11.8"
  }
 },
 "nbformat": 4,
 "nbformat_minor": 5
}
