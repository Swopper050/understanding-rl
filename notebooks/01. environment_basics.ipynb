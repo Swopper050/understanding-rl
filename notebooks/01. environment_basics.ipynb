{
 "cells": [
  {
   "cell_type": "markdown",
   "id": "41855222-84d1-4220-92a3-064a93864232",
   "metadata": {},
   "source": [
    "# Environment basics\n",
    "\n",
    "This notebook explores the foundation of the environment side of the reinforcement learning problem.\n",
    "\n",
    "The main question we are trying to solve in the end is the following: *How should an agent act?*\n",
    "\n",
    "### The environment\n",
    "The only thing we have is an environment in which we can act. We can (often only partially) observe the state of the environment: $s_t$.\n",
    "Based on $s_t$, we can choose which action $a_t$ to perform. As a result of this state-action combination, we get a reward $r_t = R(s_t, a_t)$.\n",
    "\n",
    "Let's keep close to the code while exploring these ideas!\n",
    "\n",
    "Let's start by:\n",
    "1. Making an environment.\n",
    "2. Take a look at what an observation looks like.\n",
    "3. See what an action looks like.\n",
    "4. See what a reward looks like.\n",
    "\n",
    "*(Note: we use gymnasium, the most used package for running reinforcement learning environments, originally developed by OpenAI)*"
   ]
  },
  {
   "cell_type": "code",
   "execution_count": 44,
   "id": "7b379d4a-800c-4e7a-8257-55c2b059a112",
   "metadata": {},
   "outputs": [],
   "source": [
    "import gymnasium as gym\n",
    "import matplotlib.pyplot as plt\n",
    "import numpy as np\n",
    "\n",
    "from IPython import display"
   ]
  },
  {
   "cell_type": "code",
   "execution_count": 68,
   "id": "dcc0cce2-2c17-40e0-ade5-96085c8e529d",
   "metadata": {},
   "outputs": [],
   "source": [
    "env = gym.make('CartPole-v1', render_mode=\"rgb_array\")\n",
    "\n",
    "observation, _ = env.reset(seed=13)"
   ]
  },
  {
   "cell_type": "code",
   "execution_count": 69,
   "id": "58e3c4ea-803e-452e-acdb-57a58420fe7f",
   "metadata": {},
   "outputs": [
    {
     "data": {
      "text/plain": [
       "<matplotlib.image.AxesImage at 0x71245892ee50>"
      ]
     },
     "execution_count": 69,
     "metadata": {},
     "output_type": "execute_result"
    },
    {
     "data": {
      "image/png": "[encoded data removed]",
      "text/plain": [
       "<Figure size 640x480 with 1 Axes>"
      ]
     },
     "metadata": {},
     "output_type": "display_data"
    }
   ],
   "source": [
    "plt.imshow(env.render())"
   ]
  },
  {
   "cell_type": "code",
   "execution_count": 70,
   "id": "274c057e-c680-4b8f-8f10-5f5e0bbb8958",
   "metadata": {},
   "outputs": [
    {
     "name": "stdout",
     "output_type": "stream",
     "text": [
      "Observation: [ 0.03647976  0.03553025  0.03110234 -0.02385536]\n"
     ]
    }
   ],
   "source": [
    "print(\"Observation:\", observation)"
   ]
  },
  {
   "cell_type": "markdown",
   "id": "72a8328c-7082-419d-9c96-b2dbc78e7779",
   "metadata": {},
   "source": [
    "We can see that our 'observation', closely related to the state $s_t$ of the environment, is given as 4 numbers. Also note how this is not the same as the 'rendering' of our environment. We can render our environment using this observation, because the problem was engineered as such. The 4 variables mean the following (this can be found in the docs of `gymnasium`:\n",
    "\n",
    "| Position | Description | Min | Max |\n",
    "| --- | --- | --- | --- |\n",
    "| 0 | Cart position | -4.8 | 4.8 |\n",
    "| 1 | Cart velocity | -inf | inf |\n",
    "| 2 | Pole angle | -0.418 rad (-24°) | 0.418 rad (24°) |\n",
    "| 3 | Pole Angular Velocity | -inf | inf |"
   ]
  },
  {
   "cell_type": "markdown",
   "id": "e6bc18a8-131e-40b0-b8d7-f93e0981d8be",
   "metadata": {},
   "source": [
    "Okay, so we have four numbers on which we now can base an action. How we do this will later be called our 'policy', but for now let's just explore the possible actions."
   ]
  },
  {
   "cell_type": "code",
   "execution_count": 71,
   "id": "a76ffe10-e5c9-4a5a-bfdf-c9be3e563309",
   "metadata": {},
   "outputs": [
    {
     "data": {
      "text/plain": [
       "Discrete(2)"
      ]
     },
     "execution_count": 71,
     "metadata": {},
     "output_type": "execute_result"
    }
   ],
   "source": [
    "env.action_space"
   ]
  },
  {
   "cell_type": "markdown",
   "id": "76276d24-373e-4782-bec5-40d1345afbd7",
   "metadata": {},
   "source": [
    "As can be seen, our 'action space', i.e. the space of all possible actions, is in this case very simple and we have two discrete actions. Because there are only 2 possibilities, this is represented as a single element which is 0 or 1. 0 means push the cart to the left, 1 means push the cart to the right.\n",
    "\n",
    "So let's put this to the test. Right now the cart position is:"
   ]
  },
  {
   "cell_type": "code",
   "execution_count": 72,
   "id": "67641135-fae2-400f-b5da-3661859ade0d",
   "metadata": {},
   "outputs": [
    {
     "name": "stdout",
     "output_type": "stream",
     "text": [
      "Cart position now: 0.03647976\n"
     ]
    }
   ],
   "source": [
    "print(\"Cart position now:\", observation[0])"
   ]
  },
  {
   "cell_type": "markdown",
   "id": "96cd4833-f96d-4b3a-b309-36c136be5ebe",
   "metadata": {},
   "source": [
    "Now let's push the cart to the right:"
   ]
  },
  {
   "cell_type": "code",
   "execution_count": 73,
   "id": "1c48aaca-0801-49ce-ac15-2284652a0870",
   "metadata": {},
   "outputs": [
    {
     "name": "stdout",
     "output_type": "stream",
     "text": [
      "New cart position: 0.037190363\n"
     ]
    }
   ],
   "source": [
    "action = 1\n",
    "new_observation, _, _, _, _ = env.step(action)\n",
    "print(\"New cart position:\", new_observation[0])"
   ]
  },
  {
   "cell_type": "markdown",
   "id": "098efaed-b406-442e-92c4-d43500e4957b",
   "metadata": {},
   "source": [
    "As we can see, the cart position is pushed to the right (it's position increased)."
   ]
  },
  {
   "cell_type": "markdown",
   "id": "31ab5b72-649d-4a8b-927b-a4e406255de1",
   "metadata": {},
   "source": [
    "Now let's inspect the reward for this specific environment. How an agent receives rewards differs per environment and the task the agent should complete. Let's inspect it for this case. A reward is given every time the agent takes an action (although the reward may be 0, when there is no explicit reward for that timestep/state)."
   ]
  },
  {
   "cell_type": "code",
   "execution_count": 74,
   "id": "4dfc4fe1-66e7-466a-af92-90654d8d426c",
   "metadata": {},
   "outputs": [
    {
     "name": "stdout",
     "output_type": "stream",
     "text": [
      "Reward: 1.0\n"
     ]
    }
   ],
   "source": [
    "new_observation, reward, _, _, _ = env.step(1)\n",
    "print(\"Reward:\", reward)"
   ]
  },
  {
   "cell_type": "markdown",
   "id": "e91b5e62-3cbf-4389-8b2e-72711b6ebc28",
   "metadata": {},
   "source": [
    "In this case we get a reward of 1. In this particular environment, the goals is to keep the pole up for as long as possible. If the pole falls down, the trajectory is stopped, and the return for that trajectory becomes smaller. So, given a reward for every timestep the agent 'survives', is equivalent to saying 'you should keep going on as long as possible. "
   ]
  },
  {
   "cell_type": "markdown",
   "id": "f42318c3-6ba9-42cf-901f-11f6feb21b0e",
   "metadata": {},
   "source": [
    "### Trajectory"
   ]
  },
  {
   "cell_type": "markdown",
   "id": "c1799661-b735-4f4a-8c90-085840b7ca5c",
   "metadata": {},
   "source": [
    "When we repeat the cycle of 'state -> action -> reward' many times, we get what we call a trajectory $\\tau$, which is simply a set of state, action, reward tuples, i.e. $(s_t, a_t, r_t)$. How long a trajectory is, or when it ends, depends on the problem you are trying to solve. I.e. some tasks end after some particular state is reached, and hence trajectories are of a fixed, but varying length. Some problems do not have a natural 'stop' of the episode, for example controlling the temperature of a room never ends (in such a case you usually cut off a trajectory at a fixed number of timesteps).\n",
    "\n",
    "How do we know how well an agent has 'performed' in a trajectory? Given that for every action the agent has received a reward, the simplest thing is to say that this is measured by the sum of all individual rewards: $\\sum_{t=0}^T r_t$. This is oftend called the 'return' of a trajectory. The higher this return, the 'better' the agent has done.\n",
    "\n",
    "So our question becomes: *How should an agent act in order to maximize its return?*.\n",
    "\n",
    "Let's combine this with code."
   ]
  },
  {
   "cell_type": "code",
   "execution_count": 89,
   "id": "abe91ed5-352e-421e-a230-21124a02e76a",
   "metadata": {},
   "outputs": [
    {
     "data": {
      "image/png": "[encoded data removed]",
      "text/plain": [
       "<Figure size 640x480 with 1 Axes>"
      ]
     },
     "metadata": {},
     "output_type": "display_data"
    }
   ],
   "source": [
    "observation, info = env.reset()\n",
    "img = plt.imshow(env.render())\n",
    "\n",
    "observations = []\n",
    "actions = []\n",
    "rewards = []\n",
    "\n",
    "done = False\n",
    "while not done:\n",
    "    img.set_data(env.render())\n",
    "    display.display(plt.gcf())\n",
    "    display.clear_output(wait=True)\n",
    "\n",
    "    action = env.action_space.sample()\n",
    "    new_observation, reward, terminated, truncated, info = env.step(action)\n",
    "\n",
    "    observations.append(observation)\n",
    "    actions.append(action)\n",
    "    rewards.append(reward)\n",
    "\n",
    "    observation = new_observation\n",
    "    done = terminated or truncated"
   ]
  },
  {
   "cell_type": "markdown",
   "id": "e45e1098-106f-49f5-890d-c8f4a0681eec",
   "metadata": {},
   "source": [
    "This code has runned a complete 'trajectory', sometimes also called an 'episode'. The actions taken in this trajectory were random, so results might differ on other runs, but in this csae our trajectory had the following properties:"
   ]
  },
  {
   "cell_type": "code",
   "execution_count": 98,
   "id": "4b0bba12-eb2c-4e5b-8f6f-fcac23d6e2b7",
   "metadata": {},
   "outputs": [
    {
     "name": "stdout",
     "output_type": "stream",
     "text": [
      "Number of steps: 39\n",
      "Number of actions (should be same): 39\n",
      "Number of times pushed to the left: 19\n",
      "Number of times pushed to the right: 20\n",
      "\n",
      "Return (sum of rewards): 39.0\n"
     ]
    }
   ],
   "source": [
    "print(\"Number of steps:\", len(observations))\n",
    "print(\"Number of actions (should be same):\", len(actions))\n",
    "print(\"Number of times pushed to the left:\", (np.array(actions) == 0).sum())\n",
    "print(\"Number of times pushed to the right:\", (np.array(actions) == 1).sum())\n",
    "\n",
    "print(\"\\nReturn (sum of rewards):\", np.sum(rewards))"
   ]
  },
  {
   "cell_type": "markdown",
   "id": "720eac4f-0ef5-4337-aaae-3c47f28284ae",
   "metadata": {},
   "source": [
    "### Creating our own policy\n",
    "\n",
    "So far, we have interacted with the environment in a random way. In the end, we want an agent to learn this automatically from observations, but to get a feeling it is good to think about it for ourselves first.\n",
    "\n",
    "My first guess would be that the pole angle is very important in deciding whether or not to push left or right. When the pole is leaning to the left, we should also push to the left (to invert the movement), and vice versa.\n",
    "\n",
    "So lets implement a simple policy that does this and see how it does in the environment."
   ]
  },
  {
   "cell_type": "code",
   "execution_count": 99,
   "id": "9bb91b8f-f2f2-446d-9aa2-7bf4e46e521a",
   "metadata": {},
   "outputs": [],
   "source": [
    "def cartpole_policy(observation):\n",
    "    \"\"\" Simple policy that pushes to the left when the pole leans to the left, else pushes right. \"\"\"\n",
    "    pole_angle = observation[2]\n",
    "    if pole_angle < 0:\n",
    "        return 0\n",
    "\n",
    "    return 1"
   ]
  },
  {
   "cell_type": "code",
   "execution_count": 101,
   "id": "1d17f5df-2dd5-459f-8c80-98479631d2f7",
   "metadata": {},
   "outputs": [
    {
     "name": "stdout",
     "output_type": "stream",
     "text": [
      "Terminated: True\n",
      "Truncated: False\n"
     ]
    },
    {
     "data": {
      "image/png": "[encoded data removed]",
      "text/plain": [
       "<Figure size 640x480 with 1 Axes>"
      ]
     },
     "metadata": {},
     "output_type": "display_data"
    }
   ],
   "source": [
    "observation, info = env.reset()\n",
    "img = plt.imshow(env.render())\n",
    "\n",
    "done = False\n",
    "while not done:\n",
    "    img.set_data(env.render())\n",
    "    display.display(plt.gcf())\n",
    "    display.clear_output(wait=True)\n",
    "\n",
    "    action = cartpole_policy(observation)\n",
    "    observation, reward, terminated, truncated, info = env.step(action)\n",
    "\n",
    "    done = terminated or truncated\n",
    "\n",
    "print(\"Terminated:\", terminated)\n",
    "print(\"Truncated:\", truncated)"
   ]
  },
  {
   "cell_type": "markdown",
   "id": "0a631e5e-31b6-49f5-a85e-77266c277a49",
   "metadata": {},
   "source": [
    "When looking at the video (for this you have to run the notebook), you can see that it already makes sense, but it spins out of control.\n",
    "\n",
    "In order to fix this, we could start looking at the angular velocity. We will not do that now but one can imagine that good control takes into account most or all variables from the observation."
   ]
  },
  {
   "cell_type": "markdown",
   "id": "2e002026-c38d-440b-a88e-847fe7b530be",
   "metadata": {},
   "source": [
    "### Next steps\n",
    "\n",
    "Knowing the basics of how to interact with the environment is important. Next we can take a look into the basics of learning a policy."
   ]
  }
 ],
 "metadata": {
  "kernelspec": {
   "display_name": "Python 3 (ipykernel)",
   "language": "python",
   "name": "python3"
  },
  "language_info": {
   "codemirror_mode": {
    "name": "ipython",
    "version": 3
   },
   "file_extension": ".py",
   "mimetype": "text/x-python",
   "name": "python",
   "nbconvert_exporter": "python",
   "pygments_lexer": "ipython3",
   "version": "3.11.8"
  }
 },
 "nbformat": 4,
 "nbformat_minor": 5
}
