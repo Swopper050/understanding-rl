{
 "cells": [
  {
   "cell_type": "markdown",
   "id": "794ae45a-75c6-4931-a3a2-c58960b0adf9",
   "metadata": {},
   "source": [
    "# Policy gradient basics\n",
    "\n",
    "This notebook aims to describe the basics of learning a policy based on gradients. We will go through the math as well as the code and implement a learning algorithm which we will run on a simple environment.\n",
    "This notebook is highly inspired by [SpinningUp from OpenAI](https://spinningup.openai.com/en/latest/spinningup/rl_intro3.html), but aims to bring the code and the math better together.\n",
    "\n",
    "#### Recap\n",
    "We have an environment in which the agent can act. At time $t$, the agent observes the state $s_t$, performs an action $a_t$, which yields a reward $r_t$ and the environment transitions to state $s_{t+1}$.\n",
    "\n",
    "Collecting a episode or trajectory $\\tau$ means acting in the environment until it is 'terminated' (task fails or succeeds) or until a prespecified limit, in which case the trajectory is 'truncated'.\n",
    "\n",
    "It is common to sum the rewards received in a episode. We call this the 'return' of the episode: $R(\\tau) = \\sum_{t=0}^T r_t$."
   ]
  },
  {
   "cell_type": "markdown",
   "id": "d84f5dd8-6151-4bc9-8b40-dd639f6fa6b6",
   "metadata": {},
   "source": [
    "### Policy\n",
    "\n",
    "A policy is a function that maps an observation at time $t$ to an action *distribution*. A policy is often denoted with $\\pi$.\n",
    "\n",
    "With this we can note the probability of action $a_t$ given $s_t$ as: $\\pi(a_t | s_t)$.\n",
    "\n",
    "When learning a policy, it means the policy is parametrized, i.e. we need to learn the parameters of the function (in the case of neural networks these are its weights). We denote parameters as $\\theta$, and a parametrized policy as $\\pi_{\\theta}$."
   ]
  },
  {
   "cell_type": "code",
   "execution_count": 1,
   "id": "b6df48b3-388a-487c-ba2a-84e517e94104",
   "metadata": {},
   "outputs": [],
   "source": [
    "import gymnasium as gym\n",
    "from gymnasium.wrappers import TimeLimit\n",
    "import numpy as np\n",
    "\n",
    "import matplotlib.pyplot as plt\n",
    "import seaborn as sns\n",
    "sns.set_theme(style=\"darkgrid\")\n",
    "\n",
    "import torch\n",
    "import torch.nn as nn\n",
    "from torch.distributions.categorical import Categorical\n",
    "torch.manual_seed(13)\n",
    "\n",
    "from IPython import display"
   ]
  },
  {
   "cell_type": "code",
   "execution_count": 2,
   "id": "41360c13-4b59-4195-9705-1fcb24507748",
   "metadata": {},
   "outputs": [],
   "source": [
    "class DiscretePolicy(nn.Module):\n",
    "    def __init__(self, observation_size, actions_size, layer_sizes=[32]):\n",
    "        super().__init__()\n",
    "\n",
    "        layer_sizes = [observation_size] + layer_sizes\n",
    "\n",
    "        layers = []\n",
    "        for layer_in, layer_out in zip(layer_sizes[:-1], layer_sizes[1:]):\n",
    "            layers.append(nn.Linear(layer_in, layer_out))\n",
    "            layers.append(nn.ReLU())\n",
    "\n",
    "        self.net = nn.Sequential(*layers)\n",
    "        self.output = nn.Linear(layer_sizes[-1], actions_size)\n",
    "\n",
    "    def forward(self, x):\n",
    "        logits = self.output(self.net(x))\n",
    "        return logits\n",
    "\n",
    "    def get_action_distribution(self, observations):\n",
    "        return Categorical(logits=self(torch.as_tensor(observations, dtype=torch.float32)))"
   ]
  },
  {
   "cell_type": "code",
   "execution_count": 3,
   "id": "c38282bf-73ee-47a5-a897-08b20d7e4161",
   "metadata": {},
   "outputs": [],
   "source": [
    "env = TimeLimit(gym.make('CartPole-v1', render_mode=\"rgb_array\"), max_episode_steps=300)"
   ]
  },
  {
   "cell_type": "code",
   "execution_count": 4,
   "id": "4856ddc9-bd87-4819-a247-036160dcbf8e",
   "metadata": {},
   "outputs": [],
   "source": [
    "policy = DiscretePolicy(\n",
    "    observation_size=env.observation_space.shape[0],\n",
    "    actions_size=env.action_space.n,\n",
    "    layer_sizes=[32],\n",
    ")"
   ]
  },
  {
   "cell_type": "markdown",
   "id": "76d6ec48-8715-47ea-b2db-6fa1773bc64e",
   "metadata": {},
   "source": [
    "So, now we have a policy that takes as input an observation, and outputs so called *logits*. *logits* in this case will represent an *unnormalized action distribution*, i.e. the values of the probabilities before they are turned into actual probabilities.\n",
    "\n",
    "Let's try it out."
   ]
  },
  {
   "cell_type": "code",
   "execution_count": 5,
   "id": "30fef4f8-6e8d-42ad-9d8b-be2b10029293",
   "metadata": {},
   "outputs": [
    {
     "data": {
      "text/plain": [
       "array([ 0.03647976,  0.03553025,  0.03110234, -0.02385536], dtype=float32)"
      ]
     },
     "execution_count": 5,
     "metadata": {},
     "output_type": "execute_result"
    }
   ],
   "source": [
    "obs, _ = env.reset(seed=13)\n",
    "obs"
   ]
  },
  {
   "cell_type": "code",
   "execution_count": 6,
   "id": "bae82ed6-0506-453a-803d-8daf056d1cf1",
   "metadata": {},
   "outputs": [
    {
     "data": {
      "text/plain": [
       "tensor([ 0.4299, -0.0215])"
      ]
     },
     "execution_count": 6,
     "metadata": {},
     "output_type": "execute_result"
    }
   ],
   "source": [
    "with torch.no_grad():\n",
    "    logits = policy(torch.as_tensor(obs, dtype=torch.float32))\n",
    "logits"
   ]
  },
  {
   "cell_type": "markdown",
   "id": "713a6264-51fc-44de-bfb9-ecb9fc38ca69",
   "metadata": {},
   "source": [
    "These two values stand for the two different actions we can take. We can put them into a (categorical, because our environment requires discrete actions) distribution and sample from it."
   ]
  },
  {
   "cell_type": "code",
   "execution_count": 7,
   "id": "4ec811a8-aa96-40ad-ad7c-c2b4395541e1",
   "metadata": {},
   "outputs": [
    {
     "data": {
      "text/plain": [
       "tensor([0.6110, 0.3890])"
      ]
     },
     "execution_count": 7,
     "metadata": {},
     "output_type": "execute_result"
    }
   ],
   "source": [
    "action_distribution = Categorical(logits=logits)\n",
    "action_distribution.probs"
   ]
  },
  {
   "cell_type": "markdown",
   "id": "e74dcccf-7787-4858-98b3-9557d951a49c",
   "metadata": {},
   "source": [
    "This shows us that with our current policy $\\pi_\\theta$, and given observation $s_t$, we have a 61% probability of taking action 0 (pushing to the left) and 39% probability of taking action 1 (pushing to the right). Mathematically:\n",
    "\n",
    "$$\n",
    "\\pi_\\theta(a_0 | s_t) = 0.611\n",
    "$$\n",
    "$$\n",
    "\\pi_\\theta(a_1 | s_t) = 0.389\n",
    "$$"
   ]
  },
  {
   "cell_type": "markdown",
   "id": "63e81c2c-eb3b-46d5-8357-7b026af4fe33",
   "metadata": {},
   "source": [
    "Finally, we can also easily calculate the log probability of a sample action for this policy (these will be needed during optimization):"
   ]
  },
  {
   "cell_type": "code",
   "execution_count": 8,
   "id": "734f5621-c6f6-4c2f-9c97-56f8700a4e9a",
   "metadata": {},
   "outputs": [
    {
     "name": "stdout",
     "output_type": "stream",
     "text": [
      "Action: tensor(1)\n",
      "Logprob: tensor(-0.9441)\n"
     ]
    }
   ],
   "source": [
    "action = action_distribution.sample()\n",
    "print(\"Action:\", action)\n",
    "print(\"Logprob:\", action_distribution.log_prob(action))"
   ]
  },
  {
   "cell_type": "markdown",
   "id": "20aeef02-1488-42c5-ab62-a1822e303f15",
   "metadata": {},
   "source": [
    "### How to learn a policy?\n",
    "\n",
    "Up until now stuff looks pretty similar to the more well known supervised learning situation, in which we also create a neural network that outputs probabilities in the case of classification. However, the fundamental learning algorithm is quite different. In order to understand it, we will go through the mathematics of learning a policy.\n",
    "\n",
    "\n",
    "The first thing to realize is that we have no 'ground truth' policy. As opposed to supervised learning, we do not know what the output of the policy, the neural network, should be. As a result, we can only learn what is 'good' by acting in the environment, which gives us 'rewards' in return. In other words, we learn by gathering experience.\n",
    "\n",
    "The following derivation is taken quite literally from [SpinningUp OpenAI](https://spinningup.openai.com/en/latest/spinningup/rl_intro3.html).\n",
    "\n",
    "Suppose we gather the experience for one episode. This means we get a set of observations, actions and rewards. If we look at the return of the episode, $R(\\tau)$, we get an overall idea of how 'well' the policy did.\n",
    "\n",
    "We can also state that the return is dependent on the policy $\\pi_\\theta$, and thus on the parameters of the policy. This means we can maximize this for this. Mathematically speaking, we want to maximize $J(\\pi)$:\n",
    "\n",
    "$$\n",
    "J(\\pi_\\theta) = \\int_{\\tau} P(\\tau | \\pi_\\theta) R(\\tau) = \\underset{\\tau \\sim \\pi_\\theta}{\\mathbb{E}}[R(\\tau)]\n",
    "$$\n",
    "\n",
    "In words: we want to maximize the expected return of an episode given a certain policy. The integral expresses this as for every episode that is possible, the probability of that episode happening given the policy times the return of that episode.\n",
    "\n",
    "Our key question actually now is: *How should we change the parameters $\\theta$ of $\\pi_\\theta$, in order to maximize the expected return?* This is similar to the supervised learning case where we want to change the parameters in order to match the expected output. And it turns out this step in the reinforcement learning case can also be expressed with gradients:\n",
    "\n",
    "$$\n",
    "\\nabla_\\theta J(\\pi_\\theta) = \\nabla_\\theta \\underset{\\tau \\sim \\pi_\\theta}{\\mathbb{E}}[R(\\tau)]\n",
    "$$\n",
    "\n",
    "Instead of the expectation we can write it as an integral:\n",
    "\n",
    "$$\n",
    " = \\nabla_\\theta \\int_{\\tau} P(\\tau | \\pi_\\theta) R(\\tau)\n",
    "$$\n",
    "\n",
    "Now, because the return of an episode is not dependent on the parameters (only on the environment), we can bring the gradient in:\n",
    "\n",
    "$$\n",
    " = \\int_{\\tau} \\nabla_\\theta P(\\tau | \\pi_\\theta) R(\\tau)\n",
    "$$\n",
    "\n",
    "This inner gradient of a probability $\\nabla_\\theta P(\\tau | \\pi)$ can be rewritten using the [log derivative trick](https://andrewcharlesjones.github.io/journal/log-derivative.html):\n",
    "\n",
    "$$\n",
    " = \\int_{\\tau} P(\\tau | \\pi_\\theta) \\nabla_\\theta \\log P(\\tau | \\pi_\\theta) R(\\tau)\n",
    "$$\n",
    "\n",
    "And we can bring this back to expectation form, which we can work with more easily:\n",
    "\n",
    "$$\n",
    "\\nabla_\\theta J(\\pi_\\theta) = \\underset{\\tau \\sim \\pi_\\theta}{\\mathbb{E}}[\\nabla_\\theta \\log P(\\tau | \\pi_\\theta)R(\\tau)]\n",
    "$$\n",
    "\n",
    "This is already much more applied, but we can rewrite it even more explicit if we work out $\\log P(\\tau | \\pi)$ some more. Without the log probability, we know the probability of an episode given its policy is given by:\n",
    "\n",
    "$$\n",
    "P(\\tau | \\pi_\\theta) = p_0(s_0) \\Pi_{t=0}^T p(s_{t+1} | s_t, a_t) \\pi_\\theta(a_t | s_t)\n",
    "$$\n",
    "\n",
    "In log form this becomes:\n",
    "\n",
    "$$\n",
    "\\log P(\\tau | \\pi_\\theta) = \\log p_0(s_0) + \\sum_{t=0}^T (\\log p(s_{t+1} | s_t, a_t) + \\log \\pi_\\theta(a_t | s_t))\n",
    "$$\n",
    "\n",
    "The gradient of this log probability, i.e. $\\nabla_\\theta \\log P(\\tau | \\pi_\\theta)$, allows us to remove the $\\log p_0(s_0)$ term and the $\\log p(s_{t+1} | s_t, a_t)$ term altogether. This is because these are based on the start conditions and on the environment, which do not depend on $\\theta$, thus:\n",
    "\n",
    "$$\n",
    "\\nabla_\\theta \\log P(\\tau | \\pi_\\theta) = \\sum_{t=0}^T \\nabla_\\theta \\log \\pi_\\theta(a_t | s_t)\n",
    "$$\n",
    "\n",
    "\n",
    "Now, we can simplify our gradient from the previous steps further with this:\n",
    "$$\n",
    "\\nabla_\\theta J(\\pi_\\theta) = \\underset{\\tau \\sim \\pi_\\theta}{\\mathbb{E}}[\\sum_{t=0}^T \\nabla_\\theta \\log \\pi_\\theta(a_t | s_t) R(\\tau)]\n",
    "$$\n",
    "\n",
    "\n",
    "Finally! This is something we can code. Because it is an expectation, we can estimate this with the mean of a set of episodes.\n",
    "\n",
    "*Note: if you think the $R(\\tau)$ in the last equation is a bit weird then you are right, this will change later on.*"
   ]
  },
  {
   "cell_type": "markdown",
   "id": "a9b9afd9-aca4-45f9-8b17-dcecacb8423f",
   "metadata": {},
   "source": [
    "First, we will implement a class that will help us store the gathered experience.\n",
    "\n",
    "*Reminder: with 'episode' I mean the same as 'trajectory'.*"
   ]
  },
  {
   "cell_type": "code",
   "execution_count": 9,
   "id": "b83fce38-8a5d-4c17-8e44-c3eeeaaf6bd8",
   "metadata": {},
   "outputs": [],
   "source": [
    "class ExperienceBuffer:\n",
    "    \"\"\" A class that stores experience. Can be used by storing episodes of data gathered by a specific policy\n",
    "    and provides helper functions for working with this experience during training. \"\"\"\n",
    "\n",
    "    def __init__(self):\n",
    "        self.observations = []\n",
    "        self.actions = []\n",
    "        self.rewards = []\n",
    "        self.returns = []\n",
    "\n",
    "    def store_episode(self, observations, actions, rewards):\n",
    "        \"\"\" Stores all observations, actions and rewards for one episode. It also calculates the 'return' for this episode\n",
    "        and adds it as a list for all timesteps in the episode. \"\"\"\n",
    "\n",
    "        assert len(observations) == len(actions) == len(rewards), \"There should be an equal amount of observations, actions and rewards.\"\n",
    "\n",
    "        self.observations.extend(observations)\n",
    "        self.actions.extend(actions)\n",
    "        self.rewards.extend(rewards)\n",
    "\n",
    "        episode_return = sum(rewards)\n",
    "\n",
    "        # For every timestep in the episode we add the return for the complete episode.\n",
    "        # Doing it like this makes the calculations easier later on.\n",
    "        self.returns += [episode_return] * len(observations)\n",
    "\n",
    "    def get_as_tensors(self):\n",
    "        \"\"\" Returns all experience so far as tensors. \"\"\"\n",
    "        return (\n",
    "            torch.as_tensor(np.array(self.observations), dtype=torch.float32),\n",
    "            torch.as_tensor(np.array(self.actions), dtype=torch.float32),\n",
    "            torch.as_tensor(np.array(self.rewards), dtype=torch.float32),\n",
    "            torch.as_tensor(np.array(self.returns), dtype=torch.float32),\n",
    "        )\n",
    "\n",
    "    def size(self):\n",
    "        return len(self.observations)\n",
    "\n",
    "    def clear(self):\n",
    "        \"\"\" Clears the buffer, making it ready for a new episode. \"\"\"\n",
    "\n",
    "        self.observations = []\n",
    "        self.actions = []\n",
    "        self.rewards = []\n",
    "        self.returns = []"
   ]
  },
  {
   "cell_type": "markdown",
   "id": "1357dbdf-cd75-41db-ba5c-1320d3f0678a",
   "metadata": {},
   "source": [
    "Next, we will implement a function that gathers data for an episode, and stores it in this buffer."
   ]
  },
  {
   "cell_type": "code",
   "execution_count": 10,
   "id": "bab00583-70da-48c6-b340-5285435d7bc5",
   "metadata": {},
   "outputs": [],
   "source": [
    "def gather_experience(env, policy, experience_buffer, seed=None):\n",
    "    \"\"\" Gathers experience for one episode and stores it in the buffer. \"\"\"\n",
    "    observations = []\n",
    "    actions = []\n",
    "    rewards = []\n",
    "\n",
    "    observation, _ = env.reset(seed=seed)\n",
    "\n",
    "    done = False\n",
    "    while not done:\n",
    "        # During the collection of an episode, we do not need to store gradients.\n",
    "        with torch.no_grad():\n",
    "            action_distribution = policy.get_action_distribution(observation)\n",
    "\n",
    "        action = action_distribution.sample().item()\n",
    "        new_observation, reward, terminated, truncated, info = env.step(action)\n",
    "\n",
    "        # Store information about timestep t.\n",
    "        observations.append(observation)\n",
    "        actions.append(action)\n",
    "        rewards.append(reward)\n",
    "\n",
    "        if terminated or truncated:\n",
    "            done = True\n",
    "\n",
    "        observation = new_observation\n",
    "\n",
    "    experience_buffer.store_episode(observations, actions, rewards)"
   ]
  },
  {
   "cell_type": "code",
   "execution_count": 11,
   "id": "83bf51d2-33f8-4dd2-936a-6dbf1b4e389d",
   "metadata": {},
   "outputs": [],
   "source": [
    "seed = 24\n",
    "torch.manual_seed(seed)\n",
    "\n",
    "buffer = ExperienceBuffer()\n",
    "policy = DiscretePolicy(\n",
    "    observation_size=env.observation_space.shape[0],\n",
    "    actions_size=env.action_space.n,\n",
    "    layer_sizes=[32],\n",
    ")"
   ]
  },
  {
   "cell_type": "code",
   "execution_count": 12,
   "id": "f2161f7a-98f7-4584-9bdd-6057d89e6261",
   "metadata": {},
   "outputs": [],
   "source": [
    "gather_experience(env, policy, buffer, seed=seed)"
   ]
  },
  {
   "cell_type": "markdown",
   "id": "51195a9f-6c37-4c82-aefe-41734e20e9ce",
   "metadata": {},
   "source": [
    "Okey, so now we've gathered the data for one episode. Let's look at what the buffer contains."
   ]
  },
  {
   "cell_type": "code",
   "execution_count": 13,
   "id": "243a607f-40b7-4697-b657-54e9b8cc189f",
   "metadata": {},
   "outputs": [
    {
     "name": "stdout",
     "output_type": "stream",
     "text": [
      "Observations: torch.Size([23, 4])\n",
      "tensor([[-1.6973e-02, -9.4823e-03,  7.4738e-03,  6.3998e-04],\n",
      "        [-1.7163e-02, -2.0471e-01,  7.4866e-03,  2.9567e-01],\n",
      "        [-2.1257e-02, -9.6962e-03,  1.3400e-02,  5.3592e-03],\n",
      "        [-2.1451e-02,  1.8523e-01,  1.3507e-02, -2.8307e-01],\n",
      "        [-1.7746e-02,  3.8016e-01,  7.8459e-03, -5.7146e-01],\n",
      "        [-1.0143e-02,  1.8493e-01, -3.5833e-03, -2.7631e-01],\n",
      "        [-6.4446e-03,  3.8010e-01, -9.1096e-03, -5.7013e-01],\n",
      "        [ 1.1574e-03,  1.8511e-01, -2.0512e-02, -2.8033e-01],\n",
      "        [ 4.8595e-03, -9.7169e-03, -2.6119e-02,  5.8177e-03],\n",
      "        [ 4.6652e-03,  1.8577e-01, -2.6002e-02, -2.9499e-01],\n",
      "        [ 8.3806e-03,  3.8125e-01, -3.1902e-02, -5.9576e-01],\n",
      "        [ 1.6006e-02,  1.8659e-01, -4.3817e-02, -3.1329e-01],\n",
      "        [ 1.9737e-02,  3.8231e-01, -5.0083e-02, -6.1947e-01],\n",
      "        [ 2.7384e-02,  1.8792e-01, -6.2472e-02, -3.4297e-01],\n",
      "        [ 3.1142e-02,  3.8387e-01, -6.9332e-02, -6.5468e-01],\n",
      "        [ 3.8820e-02,  1.8978e-01, -8.2425e-02, -3.8461e-01],\n",
      "        [ 4.2615e-02,  3.8597e-01, -9.0118e-02, -7.0210e-01],\n",
      "        [ 5.0335e-02,  5.8222e-01, -1.0416e-01, -1.0217e+00],\n",
      "        [ 6.1979e-02,  3.8863e-01, -1.2459e-01, -7.6349e-01],\n",
      "        [ 6.9752e-02,  5.8523e-01, -1.3986e-01, -1.0926e+00],\n",
      "        [ 8.1456e-02,  3.9220e-01, -1.6172e-01, -8.4690e-01],\n",
      "        [ 8.9300e-02,  5.8911e-01, -1.7865e-01, -1.1858e+00],\n",
      "        [ 1.0108e-01,  7.8604e-01, -2.0237e-01, -1.5287e+00]])\n",
      "\n",
      "Actions: torch.Size([23])\n",
      "tensor([0., 1., 1., 1., 0., 1., 0., 0., 1., 1., 0., 1., 0., 1., 0., 1., 1., 0.,\n",
      "        1., 0., 1., 1., 1.])\n",
      "\n",
      "Rewards: torch.Size([23])\n",
      "tensor([1., 1., 1., 1., 1., 1., 1., 1., 1., 1., 1., 1., 1., 1., 1., 1., 1., 1.,\n",
      "        1., 1., 1., 1., 1.])\n",
      "\n",
      "Returns: torch.Size([23])\n",
      "tensor([23., 23., 23., 23., 23., 23., 23., 23., 23., 23., 23., 23., 23., 23.,\n",
      "        23., 23., 23., 23., 23., 23., 23., 23., 23.])\n"
     ]
    }
   ],
   "source": [
    "observations, actions, rewards, returns = buffer.get_as_tensors()\n",
    "\n",
    "print(\"Observations:\", observations.shape)\n",
    "print(observations)\n",
    "print(\"\\nActions:\", actions.shape)\n",
    "print(actions)\n",
    "print(\"\\nRewards:\", rewards.shape)\n",
    "print(rewards)\n",
    "print(\"\\nReturns:\", returns.shape)\n",
    "print(returns)"
   ]
  },
  {
   "cell_type": "markdown",
   "id": "3f9726c9-7ff7-44ef-8741-73e63cc64054",
   "metadata": {},
   "source": [
    "Okey, so the episode took 23 timesteps. We have a 2D array with observations $s_t$ for every timestep. We also have the action $a_t$ and reward $r_t$ corresponding to that timestep and finally we have for every timestep the total return $R(\\tau)$ of the episode that observation/action/reward corresponds to."
   ]
  },
  {
   "cell_type": "markdown",
   "id": "d2e81cdb-5602-4577-96b0-8fc2cca427e7",
   "metadata": {},
   "source": [
    "Now let's figure out how can calculate gradients for our policy based on this data.\n",
    "\n",
    "Remember from the previous section that our gradient is determined by the following equation:\n",
    "$$\n",
    "\\nabla_\\theta J(\\pi_\\theta) = \\underset{\\tau \\sim \\pi_\\theta}{\\mathbb{E}}[\\sum_{t=0}^T \\nabla_\\theta \\log \\pi_\\theta(a_t | s_t) R(\\tau)]\n",
    "$$\n",
    "\n",
    "We also said that because this is an expectation, we can approximate it by sampling multiple trajectories and averaging them. In order to explore the idea, we will first do it for a single episode. The code for this formula looks as follows:"
   ]
  },
  {
   "cell_type": "code",
   "execution_count": 14,
   "id": "ea017d79-3411-4add-b8f4-ee5dbd1792a0",
   "metadata": {},
   "outputs": [
    {
     "data": {
      "text/plain": [
       "tensor(-358.3914, grad_fn=<SumBackward0>)"
      ]
     },
     "execution_count": 14,
     "metadata": {},
     "output_type": "execute_result"
    }
   ],
   "source": [
    "expected_return_estimate = torch.sum(policy.get_action_distribution(observations).log_prob(actions) * returns)\n",
    "expected_return_estimate"
   ]
  },
  {
   "cell_type": "markdown",
   "id": "f605b217-1c68-412a-b128-d3985cc64635",
   "metadata": {},
   "source": [
    "This is our estimated expected return in reinforcement learning, but something *very* important to note:\n",
    "- This is the gradient of an objective we are trying to *maximize*, i.e. the expected return $\\underset{\\tau \\sim \\pi_\\theta}{\\mathbb{E}}[R(\\tau)]$. However, in supervised learning and in general when training neural networks, it is common to *minimize* an objective, like minimizing the mean squared error. Therefore, we must multiply this value by -1 in and then we can use torch optimizers as we usually do (minimizing the negative of a value is the same as maximizing that value). By convention we will then also call it loss\n",
    "\n",
    "Performing a policy update step with this measure can now be done as follows: "
   ]
  },
  {
   "cell_type": "code",
   "execution_count": 15,
   "id": "11c14c3c-043b-48a7-b0da-2ee09295e6ae",
   "metadata": {},
   "outputs": [
    {
     "name": "stderr",
     "output_type": "stream",
     "text": [
      "/home/bram/self/understanding-rl/.env/lib/python3.11/site-packages/torch/cuda/__init__.py:619: UserWarning: Can't initialize NVML\n",
      "  warnings.warn(\"Can't initialize NVML\")\n"
     ]
    }
   ],
   "source": [
    "optimizer = torch.optim.Adam(policy.parameters(), lr=1e-3)\n",
    "\n",
    "loss = -1 * expected_return_estimate\n",
    "\n",
    "optimizer.zero_grad()\n",
    "loss.backward()\n",
    "optimizer.step()"
   ]
  },
  {
   "cell_type": "markdown",
   "id": "c9cf265d-a7c1-420b-b55b-9efd1496a297",
   "metadata": {},
   "source": [
    "Great!\n",
    "\n",
    "Now, we estimated the expected return of the policy only using a single episode, but of course it is better to estimate it using multiple episodes:"
   ]
  },
  {
   "cell_type": "code",
   "execution_count": 16,
   "id": "212ee995-317f-4717-bffd-7ced9a2ba927",
   "metadata": {},
   "outputs": [],
   "source": [
    "buffer.clear()\n",
    "\n",
    "# Gather experience for 1000 episodes.\n",
    "for _ in range(1000):\n",
    "    gather_experience(env, policy, buffer, seed=seed)"
   ]
  },
  {
   "cell_type": "markdown",
   "id": "4b18ff36-73c7-472e-be38-a13c169d0784",
   "metadata": {},
   "source": [
    "Now, we can make a much better estimate for our expected return for this policy.\n",
    "\n",
    "We will make one change to calculating the expected return estimate, and that is by replacing `torch.sum` with `torch.mean`. We can do this because taking the average of episode gradients is the same as taking the average for all of them, and more importantly, it will not change the direction of the gradients, only the magnitude, which we can control anyway by setting the learning rate."
   ]
  },
  {
   "cell_type": "code",
   "execution_count": 17,
   "id": "6ff29082-a163-46d7-b4d0-9533de5d56be",
   "metadata": {},
   "outputs": [
    {
     "name": "stdout",
     "output_type": "stream",
     "text": [
      "Number of timesteps in buffer: 25526\n"
     ]
    }
   ],
   "source": [
    "observations, actions, rewards, returns = buffer.get_as_tensors()\n",
    "print(\"Number of timesteps in buffer:\", observations.shape[0])"
   ]
  },
  {
   "cell_type": "code",
   "execution_count": 18,
   "id": "27015ddc-8947-4565-8637-829bf0ea9e2b",
   "metadata": {},
   "outputs": [],
   "source": [
    "expected_return_estimate = torch.mean(policy.get_action_distribution(observations).log_prob(actions) * returns)\n",
    "loss = -1 * expected_return_estimate\n",
    "\n",
    "optimizer.zero_grad()\n",
    "loss.backward()\n",
    "optimizer.step()"
   ]
  },
  {
   "cell_type": "markdown",
   "id": "4ae67974-7fec-42f8-ac14-f077c59af3de",
   "metadata": {},
   "source": [
    "### Running an experiment\n",
    "\n",
    "Alright! That was all the theory for this notebook, now let's put it together and train an agent for multiple episodes.\n",
    "\n",
    "*Note: this cell is not seeded, so rerunning it will yield different results every time.*"
   ]
  },
  {
   "cell_type": "code",
   "execution_count": 19,
   "id": "f4e7fd7b-4b8b-4872-86d0-91a61439384b",
   "metadata": {},
   "outputs": [],
   "source": [
    "def train_policy(env, n_epochs=100, n_episodes_per_epoch=100, learning_rate=1e-2, verbose=False):\n",
    "    \"\"\"\n",
    "    This function trains a policy for a given number of epochs, gathering a specified number of episodes\n",
    "    every epoch in order to estimate the expected return for the policy.\n",
    "\n",
    "    It returns a trained policy and the average return of all episodes for that epoch.\n",
    "    \"\"\"\n",
    "\n",
    "    buffer = ExperienceBuffer()\n",
    "    policy = DiscretePolicy(\n",
    "        observation_size=env.observation_space.shape[0],\n",
    "        actions_size=env.action_space.n,\n",
    "        layer_sizes=[32],\n",
    "    )\n",
    "    optimizer = torch.optim.Adam(policy.parameters(), lr=learning_rate)\n",
    "\n",
    "    returns_per_epoch = []\n",
    "    \n",
    "    for epoch in range(n_epochs):\n",
    "        buffer.clear()\n",
    "        for _ in range(n_episodes_per_epoch):\n",
    "            gather_experience(env, policy, buffer)\n",
    "    \n",
    "        observations, actions, rewards, returns = buffer.get_as_tensors()\n",
    "        loss = -1 * (policy.get_action_distribution(observations).log_prob(actions) * returns).mean()\n",
    "    \n",
    "        optimizer.zero_grad()\n",
    "        loss.backward()\n",
    "        optimizer.step()\n",
    "\n",
    "        average_return = returns.detach().mean().item()\n",
    "        returns_per_epoch.append(average_return)\n",
    "\n",
    "        if verbose:\n",
    "            print(f\"Finished epoch {epoch}. Average return over 100 episodes: {average_return}\")\n",
    "\n",
    "    return (\n",
    "        policy,\n",
    "        {\n",
    "            \"returns\": returns_per_epoch,\n",
    "        },\n",
    "    )"
   ]
  },
  {
   "cell_type": "markdown",
   "id": "852b3ddf-0343-4972-b0f5-ebc9e0e5065e",
   "metadata": {},
   "source": [
    "Let's run it once:"
   ]
  },
  {
   "cell_type": "code",
   "execution_count": 20,
   "id": "fa8e6f52-0883-4720-94a6-058fc3d09427",
   "metadata": {
    "scrolled": true
   },
   "outputs": [
    {
     "name": "stdout",
     "output_type": "stream",
     "text": [
      "Finished epoch 0. Average return over 100 episodes: 35.35093688964844\n",
      "Finished epoch 1. Average return over 100 episodes: 34.00365447998047\n",
      "Finished epoch 2. Average return over 100 episodes: 48.39229965209961\n",
      "Finished epoch 3. Average return over 100 episodes: 49.878597259521484\n",
      "Finished epoch 4. Average return over 100 episodes: 53.939598083496094\n",
      "Finished epoch 5. Average return over 100 episodes: 57.65279006958008\n",
      "Finished epoch 6. Average return over 100 episodes: 57.43192672729492\n",
      "Finished epoch 7. Average return over 100 episodes: 76.21390533447266\n",
      "Finished epoch 8. Average return over 100 episodes: 65.61418914794922\n",
      "Finished epoch 9. Average return over 100 episodes: 76.71944427490234\n",
      "Finished epoch 10. Average return over 100 episodes: 73.46785736083984\n",
      "Finished epoch 11. Average return over 100 episodes: 69.3333969116211\n",
      "Finished epoch 12. Average return over 100 episodes: 74.50746154785156\n",
      "Finished epoch 13. Average return over 100 episodes: 88.47579956054688\n",
      "Finished epoch 14. Average return over 100 episodes: 87.07266235351562\n"
     ]
    }
   ],
   "source": [
    "policy, train_info = train_policy(env, n_epochs=15, n_episodes_per_epoch=100, learning_rate=1e-2, verbose=True)"
   ]
  },
  {
   "cell_type": "markdown",
   "id": "acc67225-26bb-4c92-8178-8518eab370d5",
   "metadata": {},
   "source": [
    "Now let's run an experiment where we train a policy 10 times for 50 epochs. We record the average return per epoch. Then we plot the average of this line to get an idea of how the policies evolve over time."
   ]
  },
  {
   "cell_type": "code",
   "execution_count": 21,
   "id": "a30d97bd-3556-45ac-8416-f349815d74ae",
   "metadata": {},
   "outputs": [
    {
     "name": "stdout",
     "output_type": "stream",
     "text": [
      "Running experiment 0\n",
      "Running experiment 1\n",
      "Running experiment 2\n",
      "Running experiment 3\n",
      "Running experiment 4\n",
      "Running experiment 5\n",
      "Running experiment 6\n",
      "Running experiment 7\n",
      "Running experiment 8\n",
      "Running experiment 9\n"
     ]
    }
   ],
   "source": [
    "results = []\n",
    "\n",
    "for i in range(10):\n",
    "    print(f\"Running experiment {i}\")\n",
    "    policy, train_info = train_policy(env, n_epochs=50, n_episodes_per_epoch=100, learning_rate=1e-2, verbose=False)\n",
    "    results.append(train_info[\"returns\"])"
   ]
  },
  {
   "cell_type": "code",
   "execution_count": 22,
   "id": "99be8c2b-0eac-440b-950f-a43c21257586",
   "metadata": {},
   "outputs": [],
   "source": [
    "def plot_line_collection(results: list[list[float]]):\n",
    "    \"\"\" Plots a list of experiment results. \"\"\"\n",
    "\n",
    "    data = np.array(results)\n",
    "    average_line = data.mean(axis=0)\n",
    "    standard_deviations = data.std(axis=0)\n",
    "\n",
    "    upper_bound = average_line + standard_deviations\n",
    "    lower_bound = average_line - standard_deviations\n",
    "\n",
    "    ax = sns.lineplot(average_line)\n",
    "    ax.fill_between(np.arange(len(average_line)), lower_bound, upper_bound, alpha=.3)"
   ]
  },
  {
   "cell_type": "code",
   "execution_count": 23,
   "id": "885167d4-5b46-4a4f-9de1-c5972a958668",
   "metadata": {},
   "outputs": [
    {
     "data": {
      "image/png": "[encoded data removed]",
      "text/plain": [
       "<Figure size 640x480 with 1 Axes>"
      ]
     },
     "metadata": {},
     "output_type": "display_data"
    }
   ],
   "source": [
    "plot_line_collection(results)"
   ]
  },
  {
   "cell_type": "markdown",
   "id": "2ec73853-65d9-4286-a397-504102296015",
   "metadata": {},
   "source": [
    "Very awesome. You can see how all agents learned over time. We can interpret the results as:\n",
    " - It seems that all agents learned to keep the pole up for 250 steps on average after 50 epochs, while in the beginning this was only 25 steps.\n",
    " - Note that when creating the environment, we limited the maximum number of steps to 300, so it is very close to 'nailing' the environment."
   ]
  },
  {
   "cell_type": "markdown",
   "id": "00bd411d-b97c-48fa-bd92-0e5f2022f91c",
   "metadata": {},
   "source": [
    "### Evaluating an agent\n",
    "\n",
    "It might not be entirely fair to use the average return of the episode while gathering experience.\n",
    "While gathering experience, we *randomly sample* an action from the action distribution. However, when we want to know how well a policy works, we should actually see how it does when selecting *the most probable* action from the distribution during an episode.\n",
    "\n",
    "Let's train a policy and evaluate it correctly."
   ]
  },
  {
   "cell_type": "code",
   "execution_count": 24,
   "id": "31bd7c20-efdc-4f1c-b754-a76c90cd80b3",
   "metadata": {},
   "outputs": [],
   "source": [
    "policy, train_info = train_policy(env, n_epochs=50, n_episodes_per_epoch=100, learning_rate=1e-2, verbose=False)"
   ]
  },
  {
   "cell_type": "code",
   "execution_count": 25,
   "id": "ca0ad21c-7767-406a-9774-a5910339f71a",
   "metadata": {},
   "outputs": [
    {
     "name": "stdout",
     "output_type": "stream",
     "text": [
      "Last average return: 238.4189453125\n"
     ]
    }
   ],
   "source": [
    "print(\"Last average return:\", train_info[\"returns\"][-1])"
   ]
  },
  {
   "cell_type": "code",
   "execution_count": 26,
   "id": "4db12b3d-9805-421a-a459-a9c9c83a9e24",
   "metadata": {},
   "outputs": [],
   "source": [
    "def evaluate_policy(env, policy, n_episodes=100, render=False):\n",
    "    returns = []\n",
    "    for _ in range(n_episodes):\n",
    "        observation, _ = env.reset()\n",
    "        episode_return = 0\n",
    "\n",
    "        if render:\n",
    "            screen = plt.imshow(env.render())\n",
    "    \n",
    "        done = False\n",
    "        while not done:\n",
    "            if render:\n",
    "                screen.set_data(env.render())\n",
    "                display.display(plt.gcf())\n",
    "                display.clear_output(wait=True)\n",
    "\n",
    "            with torch.no_grad():\n",
    "                action_distribution = policy.get_action_distribution(observation)\n",
    "\n",
    "            action = torch.argmax(action_distribution.probs).item()\n",
    "            observation, reward, terminated, truncated, _ = env.step(action)\n",
    "            episode_return += reward\n",
    "\n",
    "            if terminated or truncated:\n",
    "                done = True\n",
    "\n",
    "        returns.append(episode_return)\n",
    "\n",
    "    return np.mean(returns)"
   ]
  },
  {
   "cell_type": "code",
   "execution_count": 27,
   "id": "a995e179-e93e-4ca4-ad37-1858a459fa8a",
   "metadata": {},
   "outputs": [
    {
     "data": {
      "text/plain": [
       "297.69"
      ]
     },
     "execution_count": 27,
     "metadata": {},
     "output_type": "execute_result"
    }
   ],
   "source": [
    "evaluate_policy(env, policy)"
   ]
  },
  {
   "cell_type": "markdown",
   "id": "c8b4f178-95c8-4c6e-a46c-adae7f8dac75",
   "metadata": {},
   "source": [
    "This means that on all 100 episodes the agent reached the maximum number of timesteps of the environment (rendering is extremely whack I'm sorry, does anyone know how to do this better?)."
   ]
  },
  {
   "cell_type": "code",
   "execution_count": 28,
   "id": "4b8b9088-472a-422c-a442-fe4e2ec7a1c1",
   "metadata": {},
   "outputs": [],
   "source": [
    "%matplotlib inline "
   ]
  },
  {
   "cell_type": "code",
   "execution_count": 29,
   "id": "cd387c75-4e31-49bf-9257-fd364899aade",
   "metadata": {
    "scrolled": true
   },
   "outputs": [
    {
     "data": {
      "text/plain": [
       "300.0"
      ]
     },
     "execution_count": 29,
     "metadata": {},
     "output_type": "execute_result"
    },
    {
     "data": {
      "image/png": "[encoded data removed]",
      "text/plain": [
       "<Figure size 640x480 with 1 Axes>"
      ]
     },
     "metadata": {},
     "output_type": "display_data"
    }
   ],
   "source": [
    "evaluate_policy(env, policy, n_episodes=1, render=True)"
   ]
  },
  {
   "cell_type": "markdown",
   "id": "830d27b1-edab-41f2-8f88-e1b7da5aa10c",
   "metadata": {},
   "source": [
    "Very nice. It is a neural network that learned how to balance a pole."
   ]
  }
 ],
 "metadata": {
  "kernelspec": {
   "display_name": "Python 3 (ipykernel)",
   "language": "python",
   "name": "python3"
  },
  "language_info": {
   "codemirror_mode": {
    "name": "ipython",
    "version": 3
   },
   "file_extension": ".py",
   "mimetype": "text/x-python",
   "name": "python",
   "nbconvert_exporter": "python",
   "pygments_lexer": "ipython3",
   "version": "3.11.8"
  }
 },
 "nbformat": 4,
 "nbformat_minor": 5
}
