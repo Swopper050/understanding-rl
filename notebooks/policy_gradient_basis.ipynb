{
 "cells": [
  {
   "cell_type": "markdown",
   "id": "41855222-84d1-4220-92a3-064a93864232",
   "metadata": {},
   "source": [
    "# Policy gradient basis\n",
    "\n",
    "This notebook explores the foundation of how to learn a policy with gradients.\n",
    "\n",
    "A policy gradient differs from gradients used during supervised learning. In supervised learning, we usually have a dataset with ground truth variables. We then make predictions, compute the loss with the ground truth, calculate gradients and updated accordingly.\n",
    "\n",
    "Learning a policy is fundamentally different.\n",
    "\n",
    "In a reinforcement learning setting, we have the following basis:\n",
    "\n",
    "1. An environment: something the agent interacts in. This environment is described by a "
   ]
  }
 ],
 "metadata": {
  "kernelspec": {
   "display_name": "Python 3 (ipykernel)",
   "language": "python",
   "name": "python3"
  },
  "language_info": {
   "codemirror_mode": {
    "name": "ipython",
    "version": 3
   },
   "file_extension": ".py",
   "mimetype": "text/x-python",
   "name": "python",
   "nbconvert_exporter": "python",
   "pygments_lexer": "ipython3",
   "version": "3.11.8"
  }
 },
 "nbformat": 4,
 "nbformat_minor": 5
}
